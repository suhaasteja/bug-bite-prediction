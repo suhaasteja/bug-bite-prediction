{
 "cells": [
  {
   "cell_type": "code",
   "execution_count": 1,
   "id": "99b56b80",
   "metadata": {},
   "outputs": [
    {
     "name": "stderr",
     "output_type": "stream",
     "text": [
      "2024-04-20 15:02:21.021934: I tensorflow/core/platform/cpu_feature_guard.cc:210] This TensorFlow binary is optimized to use available CPU instructions in performance-critical operations.\n",
      "To enable the following instructions: AVX2 FMA, in other operations, rebuild TensorFlow with the appropriate compiler flags.\n"
     ]
    }
   ],
   "source": [
    "# Import neccesary libraries\n",
    "\n",
    "import pandas as pd\n",
    "import seaborn as sns\n",
    "import tensorflow as tf\n",
    "import numpy as np\n",
    "import matplotlib.pyplot as plt\n",
    "import pathlib\n",
    "import os\n",
    "import cv2"
   ]
  },
  {
   "cell_type": "code",
   "execution_count": 13,
   "id": "2b8963f5",
   "metadata": {},
   "outputs": [],
   "source": [
    "# Training images preprocessing\n",
    "def preprocess_images(data_dir, img_size):\n",
    "    x_train = []\n",
    "    y_train = []\n",
    "    \n",
    "    # Loop through all image folders in training folder\n",
    "    for folder in os.listdir(data_dir):\n",
    "        label = folder\n",
    "        if label == '.DS_Store':\n",
    "            continue\n",
    "            \n",
    "        folder_path = os.path.join(data_dir, folder)\n",
    "        #print(folder_path)\n",
    "        \n",
    "        # Loop through all images in each classification folder\n",
    "        for img_file in os.listdir(folder_path):\n",
    "            img_path = os.path.join(folder_path, img_file)\n",
    "            img = cv2.imread(img_path)\n",
    "            \n",
    "            # If not an image: skip\n",
    "            if img is None:\n",
    "                continue\n",
    "                \n",
    "            img = cv2.resize(img, (img_size, img_size))\n",
    "            img = cv2.cvtColor(img, cv2.COLOR_BGR2RGB)  # Convert BGR to RGB\n",
    "            x_train.append(img)\n",
    "            y_train.append(label)\n",
    "            \n",
    "    x_train = np.array(x_train)\n",
    "    y_train = np.array(y_train)\n",
    "\n",
    "    return x_train, y_train"
   ]
  },
  {
   "cell_type": "code",
   "execution_count": 17,
   "id": "1b582ec9",
   "metadata": {},
   "outputs": [
    {
     "name": "stdout",
     "output_type": "stream",
     "text": [
      "974\n"
     ]
    }
   ],
   "source": [
    "# Training images file path\n",
    "data_dir = './images/training'\n",
    "data_dir = pathlib.Path(data_dir)\n",
    "\n",
    "# Number of images\n",
    "image_count = len(list(data_dir.glob('*/*.jpg')))\n",
    "print(image_count)\n",
    "\n",
    "# Preprocess training images with specific image size\n",
    "img_size = 224\n",
    "x_train, y_train = preprocess_images(data_dir, img_size)"
   ]
  },
  {
   "cell_type": "code",
   "execution_count": null,
   "id": "5cf79ec4",
   "metadata": {},
   "outputs": [],
   "source": []
  }
 ],
 "metadata": {
  "kernelspec": {
   "display_name": "Python 3 (ipykernel)",
   "language": "python",
   "name": "python3"
  },
  "language_info": {
   "codemirror_mode": {
    "name": "ipython",
    "version": 3
   },
   "file_extension": ".py",
   "mimetype": "text/x-python",
   "name": "python",
   "nbconvert_exporter": "python",
   "pygments_lexer": "ipython3",
   "version": "3.11.4"
  }
 },
 "nbformat": 4,
 "nbformat_minor": 5
}
